{
  "nbformat": 4,
  "nbformat_minor": 0,
  "metadata": {
    "colab": {
      "name": "Python_intro.ipynb",
      "provenance": [],
      "private_outputs": true,
      "collapsed_sections": [
        "GmUGAyD3bEei",
        "XGIjFgxZdfeR",
        "pzgMuNxB-FHz",
        "1Ug_SBrHLtJr",
        "mfj-vXc8OgVF",
        "ZqEjaZwwRdd4",
        "Z38BQ_IbQ9xO"
      ],
      "toc_visible": true
    },
    "kernelspec": {
      "name": "python3",
      "display_name": "Python 3"
    }
  },
  "cells": [
    {
      "cell_type": "markdown",
      "metadata": {
        "id": "cjl0pkikYUH7",
        "colab_type": "text"
      },
      "source": [
        "## Introduction to Python\n",
        "#### Contents:\n",
        "1. Variables\n",
        "2. Data Types\n",
        "3. Operators\n",
        "4. Conditionals\n",
        "5. For Loops\n",
        "6. Functions"
      ]
    },
    {
      "cell_type": "markdown",
      "metadata": {
        "id": "GmUGAyD3bEei",
        "colab_type": "text"
      },
      "source": [
        "### 1. Variables\n"
      ]
    },
    {
      "cell_type": "code",
      "metadata": {
        "id": "mtDwcUWSYJGm",
        "colab_type": "code",
        "colab": {}
      },
      "source": [
        "i_am_a_variable = 1\n",
        "i_am_another_variable = 2\n",
        "\n",
        "print (i_am_a_variable)\n",
        "print (i_am_another_variable)"
      ],
      "execution_count": null,
      "outputs": []
    },
    {
      "cell_type": "code",
      "metadata": {
        "id": "LAykTgUtdGhW",
        "colab_type": "code",
        "colab": {}
      },
      "source": [
        "new_variable = i_am_a_variable \n",
        "print (new_variable)"
      ],
      "execution_count": null,
      "outputs": []
    },
    {
      "cell_type": "code",
      "metadata": {
        "id": "PT83vD_MdN59",
        "colab_type": "code",
        "colab": {}
      },
      "source": [
        "new_variable = 0\n",
        "print (new_variable)"
      ],
      "execution_count": null,
      "outputs": []
    },
    {
      "cell_type": "code",
      "metadata": {
        "id": "8pfVdWvsdS3c",
        "colab_type": "code",
        "colab": {}
      },
      "source": [
        "new_variable = new_variable * i_am_a_variable\n",
        "print (new_variable)"
      ],
      "execution_count": null,
      "outputs": []
    },
    {
      "cell_type": "markdown",
      "metadata": {
        "id": "XGIjFgxZdfeR",
        "colab_type": "text"
      },
      "source": [
        "### 2. Data Types"
      ]
    },
    {
      "cell_type": "code",
      "metadata": {
        "id": "ykS3mTTpdkZj",
        "colab_type": "code",
        "colab": {}
      },
      "source": [
        "# Integers\n",
        "a = 1\n",
        "print (a)\n",
        "print (type(a))"
      ],
      "execution_count": null,
      "outputs": []
    },
    {
      "cell_type": "code",
      "metadata": {
        "id": "2Pc5ApFM471l",
        "colab_type": "code",
        "colab": {}
      },
      "source": [
        "# Floats\n",
        "b = 0.5\n",
        "print (b)\n",
        "print (type(b))"
      ],
      "execution_count": null,
      "outputs": []
    },
    {
      "cell_type": "code",
      "metadata": {
        "id": "OD9tXBh659Id",
        "colab_type": "code",
        "colab": {}
      },
      "source": [
        "# Booleans\n",
        "x = True\n",
        "print (x)\n",
        "print (type(x))\n",
        "\n",
        "y = False\n",
        "print (y)\n",
        "print (type(y))"
      ],
      "execution_count": null,
      "outputs": []
    },
    {
      "cell_type": "code",
      "metadata": {
        "id": "YPxgGrVt5gSx",
        "colab_type": "code",
        "colab": {}
      },
      "source": [
        "# String\n",
        "name = 'python'\n",
        "print (name)\n",
        "print (type(name))\n",
        "\n",
        "# special characters\n",
        "str1 = '\\n Hello \\t World'\n",
        "print (str1)"
      ],
      "execution_count": null,
      "outputs": []
    },
    {
      "cell_type": "code",
      "metadata": {
        "id": "uBfrSkNx5yCL",
        "colab_type": "code",
        "colab": {}
      },
      "source": [
        "# Lists\n",
        "list_a = [1,2,3]\n",
        "print (list_a)\n",
        "print (type(list_a))"
      ],
      "execution_count": null,
      "outputs": []
    },
    {
      "cell_type": "code",
      "metadata": {
        "id": "uGdaTmxy7RlT",
        "colab_type": "code",
        "colab": {}
      },
      "source": [
        "# lists can have any type of variable\n",
        "list_b = [1,1.2,'apple']\n",
        "print (list_b)\n",
        "print (len(list_b))\n",
        "\n",
        "list_b = [1,'apple']\n",
        "print (list_b)\n",
        "print (len(list_b))"
      ],
      "execution_count": null,
      "outputs": []
    },
    {
      "cell_type": "code",
      "metadata": {
        "id": "mWtQ3-608kN0",
        "colab_type": "code",
        "colab": {}
      },
      "source": [
        "# slicing a list\n",
        "list_c = [100,200,300,400]\n",
        "print (list_c)\n",
        "\n",
        "# selecting the first item\n",
        "print (list_c[0])\n",
        "\n",
        "a = list_c [1]\n",
        "print (a)"
      ],
      "execution_count": null,
      "outputs": []
    },
    {
      "cell_type": "code",
      "metadata": {
        "id": "gUDMW84a9SyR",
        "colab_type": "code",
        "colab": {}
      },
      "source": [
        "# selecting the last item\n",
        "z = list_c [-1]\n",
        "print (z)"
      ],
      "execution_count": null,
      "outputs": []
    },
    {
      "cell_type": "code",
      "metadata": {
        "id": "-5YXSVkQ9aFA",
        "colab_type": "code",
        "colab": {}
      },
      "source": [
        "# selecting a part of the list (few items)\n",
        "list_d = list_c[0:2]\n",
        "print (list_d)"
      ],
      "execution_count": null,
      "outputs": []
    },
    {
      "cell_type": "markdown",
      "metadata": {
        "id": "pzgMuNxB-FHz",
        "colab_type": "text"
      },
      "source": [
        "### 3. Operators"
      ]
    },
    {
      "cell_type": "markdown",
      "metadata": {
        "id": "8tni3ql8DG-u",
        "colab_type": "text"
      },
      "source": [
        "Arithmetic Operations (+ - * /)\n",
        "\n"
      ]
    },
    {
      "cell_type": "code",
      "metadata": {
        "id": "VOEwuMXR9ocy",
        "colab_type": "code",
        "colab": {}
      },
      "source": [
        "a = 10\n",
        "b = 2.5"
      ],
      "execution_count": null,
      "outputs": []
    },
    {
      "cell_type": "code",
      "metadata": {
        "id": "ktyc7gPUCT2T",
        "colab_type": "code",
        "colab": {}
      },
      "source": [
        "print ('a = 10\\nb = 2.5')\n",
        "print ('a+b =', a+b)\n",
        "print ('a-b =', a-b)\n",
        "print ('a*b =', a*b)\n",
        "print ('a/b =', a/b)"
      ],
      "execution_count": null,
      "outputs": []
    },
    {
      "cell_type": "code",
      "metadata": {
        "id": "aeYCyceKE42Y",
        "colab_type": "code",
        "colab": {}
      },
      "source": [
        "# Modulus (x%y):\tRemainder of x divided by y\n",
        "x = 15\n",
        "y = 4\n",
        "print (x%y)\n",
        "# 15 = (4*3) + 3\n",
        "\n",
        "z = 3\n",
        "print (x%z)\n",
        "# 15 = (3*5)"
      ],
      "execution_count": null,
      "outputs": []
    },
    {
      "cell_type": "markdown",
      "metadata": {
        "id": "VtmufQczIgYp",
        "colab_type": "text"
      },
      "source": [
        "Comparison Operations (== != < > <= >=)"
      ]
    },
    {
      "cell_type": "code",
      "metadata": {
        "id": "GDHae4kQGdn8",
        "colab_type": "code",
        "colab": {}
      },
      "source": [
        "a = 10\n",
        "b = 7\n",
        "\n",
        "print ('a = 10\\nb = 7')\n",
        "print ('\\n')\n",
        "print ('a==b', a==b)"
      ],
      "execution_count": null,
      "outputs": []
    },
    {
      "cell_type": "code",
      "metadata": {
        "id": "ejH7t-Y9JOH-",
        "colab_type": "code",
        "colab": {}
      },
      "source": [
        "print ('a!=b', a!=b)\n",
        "print ('a<b', a<b)\n",
        "print ('10>=10', 10>=10)"
      ],
      "execution_count": null,
      "outputs": []
    },
    {
      "cell_type": "markdown",
      "metadata": {
        "id": "1Ug_SBrHLtJr",
        "colab_type": "text"
      },
      "source": [
        "### 4. Conditionals "
      ]
    },
    {
      "cell_type": "code",
      "metadata": {
        "id": "-7DcMYV2L2Uk",
        "colab_type": "code",
        "colab": {}
      },
      "source": [
        "# if statements\n",
        "a = 10\n",
        "if (a > 5):\n",
        "    print ('a is bigger than 5')"
      ],
      "execution_count": null,
      "outputs": []
    },
    {
      "cell_type": "code",
      "metadata": {
        "id": "zPZMqruzMtHQ",
        "colab_type": "code",
        "colab": {}
      },
      "source": [
        "# else statement\n",
        "a = 10\n",
        "if (a <= 5):\n",
        "    print ('a is smaller than 5')\n",
        "else:\n",
        "    print ('a is bigger than 5')"
      ],
      "execution_count": null,
      "outputs": []
    },
    {
      "cell_type": "code",
      "metadata": {
        "id": "66QQjjzSNRbe",
        "colab_type": "code",
        "colab": {}
      },
      "source": [
        "# elif for when we are having more than one condition\n",
        "a = 10\n",
        "b = 5\n",
        "c = 8\n",
        "\n",
        "if (c > a):\n",
        "    print (\"'c' is larger than 'a'\") \n",
        "elif (c > b):\n",
        "    print (\"'c' is larger than 'b'\")\n",
        "else:\n",
        "    print (\"'c' is smaller than 'a' and 'b'\")"
      ],
      "execution_count": null,
      "outputs": []
    },
    {
      "cell_type": "markdown",
      "metadata": {
        "id": "mfj-vXc8OgVF",
        "colab_type": "text"
      },
      "source": [
        "### 5. Loops"
      ]
    },
    {
      "cell_type": "code",
      "metadata": {
        "id": "-h6I38ksOiYg",
        "colab_type": "code",
        "colab": {}
      },
      "source": [
        "print('Lets print a series of numbers')\n",
        "\n",
        "for i in range(10): # range(10) = 0,1,2,3,...,9\n",
        "    print(i)"
      ],
      "execution_count": null,
      "outputs": []
    },
    {
      "cell_type": "code",
      "metadata": {
        "id": "B_x5n9wMO42c",
        "colab_type": "code",
        "colab": {}
      },
      "source": [
        "for i in range(5,10): # range(5,10) = 5,6,7,8,9\n",
        "    print(i)"
      ],
      "execution_count": null,
      "outputs": []
    },
    {
      "cell_type": "code",
      "metadata": {
        "id": "7lb8BTFHPs3D",
        "colab_type": "code",
        "colab": {}
      },
      "source": [
        "list_a = ['one','two','three']\n",
        "for i in list_a:\n",
        "    print (i)"
      ],
      "execution_count": null,
      "outputs": []
    },
    {
      "cell_type": "code",
      "metadata": {
        "id": "0ZUSvbMxP5fa",
        "colab_type": "code",
        "colab": {}
      },
      "source": [
        "# printing the length of list_a\n",
        "print (len(list_a))"
      ],
      "execution_count": null,
      "outputs": []
    },
    {
      "cell_type": "code",
      "metadata": {
        "id": "dR5sCrOcQGHg",
        "colab_type": "code",
        "colab": {}
      },
      "source": [
        "for i in range(len(list_a)):\n",
        "    print (i)"
      ],
      "execution_count": null,
      "outputs": []
    },
    {
      "cell_type": "code",
      "metadata": {
        "id": "5YSXAd6NQn12",
        "colab_type": "code",
        "colab": {}
      },
      "source": [
        "for i in range(len(list_a)):\n",
        "    print (list_a[i])"
      ],
      "execution_count": null,
      "outputs": []
    },
    {
      "cell_type": "code",
      "metadata": {
        "id": "aVyqrLlRQpQ1",
        "colab_type": "code",
        "colab": {}
      },
      "source": [
        "for i in range(20):\n",
        "    if i % 2 == 0:\n",
        "        print (i)"
      ],
      "execution_count": null,
      "outputs": []
    },
    {
      "cell_type": "code",
      "metadata": {
        "id": "wKigKYqDTzid",
        "colab_type": "code",
        "colab": {}
      },
      "source": [
        "a = [1,2,3,4,'five', 'six', 'seven']\n",
        "for i in a:\n",
        "    if type(i) == str:\n",
        "        print (i) "
      ],
      "execution_count": null,
      "outputs": []
    },
    {
      "cell_type": "code",
      "metadata": {
        "id": "fSfPUeacUAqR",
        "colab_type": "code",
        "colab": {}
      },
      "source": [
        "for i in a:\n",
        "    if type(i) == int:\n",
        "        print (i) "
      ],
      "execution_count": null,
      "outputs": []
    },
    {
      "cell_type": "markdown",
      "metadata": {
        "id": "ZqEjaZwwRdd4",
        "colab_type": "text"
      },
      "source": [
        "### 6. Lists part II"
      ]
    },
    {
      "cell_type": "code",
      "metadata": {
        "id": "SezF-ezxRqdT",
        "colab_type": "code",
        "colab": {}
      },
      "source": [
        "a = [1,2,3,4]\n",
        "print (a)"
      ],
      "execution_count": null,
      "outputs": []
    },
    {
      "cell_type": "code",
      "metadata": {
        "id": "EafJvYpLRuUK",
        "colab_type": "code",
        "colab": {}
      },
      "source": [
        "a.append(5)\n",
        "print (a)"
      ],
      "execution_count": null,
      "outputs": []
    },
    {
      "cell_type": "code",
      "metadata": {
        "id": "4wuyX0bBRuhb",
        "colab_type": "code",
        "colab": {}
      },
      "source": [
        "a.append(6)\n",
        "print (a)"
      ],
      "execution_count": null,
      "outputs": []
    },
    {
      "cell_type": "code",
      "metadata": {
        "id": "FaQbHLjbRukL",
        "colab_type": "code",
        "colab": {}
      },
      "source": [
        "a = []\n",
        "for i in range(10):\n",
        "    a.append(i)\n",
        "    print ('i:', i)\n",
        "print ('a:', a)"
      ],
      "execution_count": null,
      "outputs": []
    },
    {
      "cell_type": "markdown",
      "metadata": {
        "id": "Z38BQ_IbQ9xO",
        "colab_type": "text"
      },
      "source": [
        "### 7. Functions"
      ]
    },
    {
      "cell_type": "code",
      "metadata": {
        "id": "ZsYzJsVTSzOf",
        "colab_type": "code",
        "colab": {}
      },
      "source": [
        "def addition(a,b):\n",
        "    c = a+b\n",
        "    return c\n",
        "\n",
        "print (addition(2,10))"
      ],
      "execution_count": null,
      "outputs": []
    },
    {
      "cell_type": "code",
      "metadata": {
        "id": "SN5RQlHKRAvL",
        "colab_type": "code",
        "colab": {}
      },
      "source": [
        "def sum(numbers):\n",
        "     s = 0\n",
        "     for n in numbers:\n",
        "           s = s + n\n",
        "     return s\n",
        "\n",
        "\n",
        "print ('a:', a)\n",
        "print (sum(a))"
      ],
      "execution_count": null,
      "outputs": []
    },
    {
      "cell_type": "markdown",
      "metadata": {
        "id": "_zGNoKPuUiUj",
        "colab_type": "text"
      },
      "source": [
        "## Exercise 1\n"
      ]
    },
    {
      "cell_type": "code",
      "metadata": {
        "id": "111lXkyMUnbL",
        "colab_type": "code",
        "colab": {}
      },
      "source": [
        "import random\n",
        "\n",
        "# inputs are three lists of even numbers, odd numbers and a list of names\n",
        "# as well as a list with combination of all of the three lists together called \"all\"\n",
        "\n",
        "even_numbers = [0,2,4,6,8,10]\n",
        "odd_numbers = [1,3,5,7,9]\n",
        "names = [\"Leonard\", \"Trista\", \"Anneliese\", \"Susie\", \"Rocio\", \"Concetta\", \"Nancy\", \"Shea\", \"Ezra\", \"Maia\"]\n",
        "\n",
        "all = even_numbers + odd_numbers + names\n",
        "print (\"ordered list:\\n\",all)\n",
        "\n",
        "\n",
        "# task1: separate the \"all\" list into two lists of numbers and text\n",
        "\"\"\"\n",
        "(hint)\n",
        "create two empty lists\n",
        "go through each item in the list 'all'\n",
        "if it's text add it to the list of names,\n",
        "if it's a number add it to the list of numbers\n",
        "\"\"\"\n",
        "\n",
        "\n",
        "# task2: we have shuffled the list \"all\".\n",
        "# create again the three lists of even numbers, odd numbers and names (order of items is not important)\n",
        "\n",
        "\"\"\"\n",
        "(hint)\n",
        "create three empty lists\n",
        "go through each item in the list 'all'\n",
        "if the type is string, add it to the list of names, if not:\n",
        "    if the number is even, add it to list of even numbers, \n",
        "    otherwise add it to the list of odd numbers\n",
        "\"\"\"\n",
        "\n",
        "random.shuffle(all)\n",
        "print (\"shuffled list:\\n\", all)"
      ],
      "execution_count": null,
      "outputs": []
    },
    {
      "cell_type": "markdown",
      "metadata": {
        "id": "P4HCABJlXfJq",
        "colab_type": "text"
      },
      "source": [
        "## Exercise 2"
      ]
    },
    {
      "cell_type": "code",
      "metadata": {
        "id": "kAWv8_KcXNa9",
        "colab_type": "code",
        "colab": {}
      },
      "source": [
        "# write a function that computes the average number of a given list of numbers\n",
        "def find_average(list_a):\n",
        "    \n",
        "    \n",
        "    return avg_number\n",
        "\n",
        "list_a = [10,11,12,19]"
      ],
      "execution_count": null,
      "outputs": []
    }
  ]
}